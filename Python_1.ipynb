{
  "nbformat": 4,
  "nbformat_minor": 0,
  "metadata": {
    "colab": {
      "name": "Python_1.ipynb",
      "provenance": [],
      "collapsed_sections": []
    },
    "kernelspec": {
      "name": "python3",
      "display_name": "Python 3"
    },
    "language_info": {
      "name": "python"
    }
  },
  "cells": [
    {
      "cell_type": "code",
      "metadata": {
        "colab": {
          "base_uri": "https://localhost:8080/"
        },
        "id": "ieCvTNzHRdbB",
        "outputId": "8fd7a687-5707-46a7-9a31-2c35b1549c53"
      },
      "source": [
        "num =int(input('Enter the number of digit'))\n",
        "if num < 0:\n",
        "   print(\"Enter a positive number\")\n",
        "\n",
        "sum = int((num*(num+1)/2))\n",
        "avg= int((num+1)/2)\n",
        "print(int(sum))\n",
        "print(int(avg))"
      ],
      "execution_count": null,
      "outputs": [
        {
          "output_type": "stream",
          "name": "stdout",
          "text": [
            "Enter the number of digit16\n",
            "136\n",
            "8\n"
          ]
        }
      ]
    }
  ]
}