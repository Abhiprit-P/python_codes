{
  "nbformat": 4,
  "nbformat_minor": 0,
  "metadata": {
    "colab": {
      "name": "pyhton_7.ipynb",
      "provenance": []
    },
    "kernelspec": {
      "name": "python3",
      "display_name": "Python 3"
    },
    "language_info": {
      "name": "python"
    }
  },
  "cells": [
    {
      "cell_type": "code",
      "metadata": {
        "colab": {
          "base_uri": "https://localhost:8080/"
        },
        "id": "X1aFUAhkdlkP",
        "outputId": "ff528c6b-7419-4bfa-ebd4-c863abbaf299"
      },
      "source": [
        "import random\n",
        "a = random.randrange(100, 999, 5)\n",
        "b = random.randrange(100, 999, 5)\n",
        "c = random.randrange(100, 999, 5)\n",
        "print(\"Numbers are:\", a, b, c)"
      ],
      "execution_count": 2,
      "outputs": [
        {
          "output_type": "stream",
          "name": "stdout",
          "text": [
            "Numbers are: 310 585 415\n"
          ]
        }
      ]
    }
  ]
}