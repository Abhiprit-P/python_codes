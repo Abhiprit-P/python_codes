{
  "nbformat": 4,
  "nbformat_minor": 0,
  "metadata": {
    "colab": {
      "name": "python_3.ipynb",
      "provenance": []
    },
    "kernelspec": {
      "name": "python3",
      "display_name": "Python 3"
    },
    "language_info": {
      "name": "python"
    }
  },
  "cells": [
    {
      "cell_type": "code",
      "metadata": {
        "colab": {
          "base_uri": "https://localhost:8080/"
        },
        "id": "uVeiIIxeYjiD",
        "outputId": "f4cbfd8c-2870-424e-c93c-1f075b6ed457"
      },
      "source": [
        "n = int(input('Enter the number'))\n",
        "fact = 1\n",
        "  \n",
        "for i in range(1,n+1):\n",
        "    fact = fact * i\n",
        "print (fact)"
      ],
      "execution_count": 4,
      "outputs": [
        {
          "output_type": "stream",
          "name": "stdout",
          "text": [
            "Enter the number4\n",
            "24\n"
          ]
        }
      ]
    }
  ]
}