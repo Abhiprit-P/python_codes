{
  "nbformat": 4,
  "nbformat_minor": 0,
  "metadata": {
    "colab": {
      "name": "python_8.ipynb",
      "provenance": []
    },
    "kernelspec": {
      "name": "python3",
      "display_name": "Python 3"
    },
    "language_info": {
      "name": "python"
    }
  },
  "cells": [
    {
      "cell_type": "code",
      "metadata": {
        "colab": {
          "base_uri": "https://localhost:8080/"
        },
        "id": "4SO35eLPiso_",
        "outputId": "91d96d95-5327-4504-b069-e87313a1d523"
      },
      "source": [
        "import random\n",
        "for i in range(1,21):\n",
        "  print(i,end = ' ')\n",
        "tickets1 = random.randint(1,21)\n",
        "print('winner1', int(tickets1))\n",
        "tickets2 = random.randint(1, 21)\n",
        "print('winner2', int(tickets2))"
      ],
      "execution_count": 20,
      "outputs": [
        {
          "output_type": "stream",
          "name": "stdout",
          "text": [
            "1 2 3 4 5 6 7 8 9 10 11 12 13 14 15 16 17 18 19 20 winner1 21\n",
            "winner2 9\n"
          ]
        }
      ]
    }
  ]
}